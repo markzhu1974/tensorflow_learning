{
 "cells": [
  {
   "cell_type": "code",
   "execution_count": 1,
   "metadata": {
    "scrolled": false
   },
   "outputs": [],
   "source": [
    "import tensorflow as tf\n",
    "import os\n",
    "from tensorflow.python.framework import ops\n",
    "import warnings\n",
    "warnings.filterwarnings(\"ignore\")\n",
    "os.environ['TF_CPP_MIN_LOG_LEVEL'] = '3'\n",
    "ops.reset_default_graph()\n",
    "import numpy as np\n",
    "import matplotlib.pyplot as plot\n",
    "%matplotlib inline\n"
   ]
  },
  {
   "cell_type": "code",
   "execution_count": 5,
   "metadata": {},
   "outputs": [
    {
     "name": "stdout",
     "output_type": "stream",
     "text": [
      "72\n"
     ]
    }
   ],
   "source": [
    "x = tf.constant(8)\n",
    "y = tf.constant(9)\n",
    "z = tf.multiply(x, y)\n",
    "\n",
    "with tf.Session() as sess:\n",
    "    print(sess.run(z))\n"
   ]
  },
  {
   "cell_type": "code",
   "execution_count": 7,
   "metadata": {},
   "outputs": [
    {
     "name": "stdout",
     "output_type": "stream",
     "text": [
      "6.0\n"
     ]
    }
   ],
   "source": [
    "x=tf.placeholder(tf.float32)\n",
    "y=tf.placeholder(tf.float32)\n",
    "z=tf.multiply(x,y)\n",
    "with tf.Session() as sess:\n",
    "    print(sess.run(z,feed_dict={x:2,y:3}))\n"
   ]
  },
  {
   "cell_type": "code",
   "execution_count": 9,
   "metadata": {},
   "outputs": [
    {
     "name": "stdout",
     "output_type": "stream",
     "text": [
      "[[8.]]\n",
      "Tensor(\"MatMul_1:0\", shape=(1, 1), dtype=float32)\n",
      "Tensor(\"MatMul_1:0\", shape=(1, 1), dtype=float32)\n"
     ]
    }
   ],
   "source": [
    "\n",
    "x = tf.placeholder(tf.float32, shape=[1, 1]) # a placeholder for variable x\n",
    "y = tf.placeholder(tf.float32, shape=[1, 1]) # a placeholder for variable y\n",
    "m = tf.matmul(x, y)\n",
    "\n",
    "with tf.Session() as sess:\n",
    "    print(sess.run(m, feed_dict={x: [[2.]], y: [[4.]]}))\n",
    "\n",
    "print(m)\n",
    "print(m)"
   ]
  },
  {
   "cell_type": "code",
   "execution_count": 3,
   "metadata": {},
   "outputs": [
    {
     "name": "stdout",
     "output_type": "stream",
     "text": [
      "The multiplication of x and y: 72\n"
     ]
    }
   ],
   "source": [
    "x = tf.constant(8)\n",
    "y = tf.constant(9)\n",
    "z = tf.multiply(x, y)\n",
    "\n",
    "sess = tf.Session()\n",
    "out_z = sess.run(z)\n",
    "\n",
    "print('The multiplication of x and y: %d' % out_z)"
   ]
  },
  {
   "cell_type": "code",
   "execution_count": 37,
   "metadata": {},
   "outputs": [
    {
     "data": {
      "image/png": "[encoded data removed]",
      "text/plain": [
       "<Figure size 432x288 with 1 Axes>"
      ]
     },
     "metadata": {
      "needs_background": "light"
     },
     "output_type": "display_data"
    }
   ],
   "source": [
    "a=tf.random_normal([2,30])\n",
    "with tf.Session() as sess:\n",
    "    out = sess.run(a)\n",
    "    x,y = out\n",
    "plot.scatter(x,y)\n",
    "plot.show()"
   ]
  },
  {
   "cell_type": "code",
   "execution_count": 15,
   "metadata": {},
   "outputs": [
    {
     "name": "stdout",
     "output_type": "stream",
     "text": [
      "14\n"
     ]
    }
   ],
   "source": [
    "a=tf.constant(4, name=\"nput_a\")\n",
    "b=tf.constant(2, name=\"nput_b\")\n",
    "c=tf.multiply(a, b, name=\"mul_c\")\n",
    "d=tf.add(a, b, name=\"add_d\")\n",
    "e=tf.add(c, d, name=\"add_e\")\n",
    "\n",
    "with tf.Session() as sess:\n",
    "    print(sess.run(e))\n",
    "    writer = tf.summary.FileWriter('./my_graph/1')\n",
    "    writer.add_graph(sess.graph)\n"
   ]
  },
  {
   "cell_type": "code",
   "execution_count": 34,
   "metadata": {},
   "outputs": [
    {
     "name": "stdout",
     "output_type": "stream",
     "text": [
      "0\n",
      "1\n",
      "2\n",
      "3\n",
      "4\n",
      "5\n"
     ]
    }
   ],
   "source": [
    "#value = tf.Variable(0, name=\"value\")\n",
    "\n",
    "value = tf.get_variable(\"value\", shape=[], dtype=tf.int32, initializer=None, regularizer=None, trainable=True, collections=None)\n",
    "\n",
    "one = tf.constant(1)\n",
    "update_value = tf.assign_add(value, one)\n",
    "initialize_var = tf.global_variables_initializer()\n",
    "\n",
    "with tf.Session() as sess:\n",
    "    sess.run(initialize_var)\n",
    "    print(sess.run(value))\n",
    "    for _ in range(5):\n",
    "        sess.run(update_value)\n",
    "        print(sess.run(value))\n"
   ]
  },
  {
   "cell_type": "code",
   "execution_count": 2,
   "metadata": {},
   "outputs": [
    {
     "data": {
      "image/png": "[encoded data removed]",
      "text/plain": [
       "<Figure size 432x288 with 1 Axes>"
      ]
     },
     "metadata": {
      "needs_background": "light"
     },
     "output_type": "display_data"
    }
   ],
   "source": [
    "num_points = 1000\n",
    "vectors_set = []\n",
    "\n",
    "for i in range(num_points):\n",
    "    W = 0.1  # W\n",
    "    b = 0.4  # b\n",
    "    x1 = np.random.normal(0.0, 1.0)\n",
    "    nd = np.random.normal(0.0, 0.05)\n",
    "    y1 = W * x1 + b\n",
    "    # Add some impurity with the some normal distribution -i.e. nd\n",
    "    y1 = y1 + nd\n",
    "    # Append them and create a combined vector set\n",
    "    vectors_set.append([x1, y1])\n",
    "\n",
    "x_data = [v[0] for v in vectors_set]\n",
    "y_data = [v[1] for v in vectors_set]\n",
    "\n",
    "# Plot and show the data points on a 2D space\n",
    "plot.plot(x_data, y_data, 'ro', label='Original data')\n",
    "plot.legend()\n",
    "plot.show()\n"
   ]
  },
  {
   "cell_type": "code",
   "execution_count": 51,
   "metadata": {},
   "outputs": [
    {
     "name": "stdout",
     "output_type": "stream",
     "text": [
      "0 [0.12541927] [0.4077747] 0.0034294748\n",
      "1 [0.10103397] [0.39922574] 0.0027740006\n",
      "2 [0.10095376] [0.4008879] 0.002771214\n",
      "3 [0.10083828] [0.4008934] 0.0027712006\n",
      "4 [0.10083476] [0.40090126] 0.0027712\n",
      "5 [0.10083413] [0.4009015] 0.0027712006\n",
      "6 [0.1008341] [0.40090153] 0.0027712001\n",
      "7 [0.1008341] [0.40090153] 0.0027712001\n",
      "8 [0.1008341] [0.40090153] 0.0027712001\n",
      "9 [0.1008341] [0.40090153] 0.0027712001\n"
     ]
    }
   ],
   "source": [
    "#tf.name_scope organize things on the tensorboard graph view\n",
    "with tf.name_scope(\"LinearRegression\") as scope:\n",
    "\tW = tf.Variable(tf.zeros([1]))\n",
    "\tb = tf.Variable(tf.zeros([1]))\n",
    "\ty = W * x_data + b\n",
    "\n",
    "# Define a loss function that take into account the distance between the prediction and our dataset\n",
    "with tf.name_scope(\"LossFunction\") as scope:\n",
    "\tloss = tf.reduce_mean(tf.square(y - y_data))\n",
    "\n",
    "optimizer = tf.train.GradientDescentOptimizer(0.5)\n",
    "train = optimizer.minimize(loss)\n",
    "\n",
    "# Annotate loss, weights and bias (Needed for tensorboard)\n",
    "loss_summary = tf.summary.scalar(\"loss\", loss)\n",
    "w_ = tf.summary.histogram(\"W\", W)\n",
    "b_ = tf.summary.histogram(\"b\", b)\n",
    "\n",
    "# Merge all the summaries\n",
    "merged_op = tf.summary.merge_all()\n",
    "\n",
    "init = tf.global_variables_initializer()\n",
    "sess = tf.Session()\n",
    "sess.run(init)\n",
    "\n",
    "# Writer for tensorboard (Directory)\n",
    "writer_tensorboard = tf.summary.FileWriter('logs/', tf.get_default_graph())\n",
    "\n",
    "for i in range(10):\n",
    "\tsess.run(train)\n",
    "\tprint(i, sess.run(W), sess.run(b), sess.run(loss))\n",
    "#\tplot.plot(x_data, y_data, 'ro', label='Original data')\n",
    "#\tplot.plot(x_data, sess.run(W)*x_data + sess.run(b))\n",
    "#\tplot.xlabel('X')\n",
    "#\tplot.xlim(-2, 2)\n",
    "#\tplot.ylim(0.1, 0.6)\n",
    "#\tplot.ylabel('Y')\n",
    "#\tplot.legend()\n",
    "#\tplot.show()\n"
   ]
  },
  {
   "cell_type": "code",
   "execution_count": null,
   "metadata": {},
   "outputs": [],
   "source": []
  }
 ],
 "metadata": {
  "kernelspec": {
   "display_name": "Python 3",
   "language": "python",
   "name": "python3"
  },
  "language_info": {
   "codemirror_mode": {
    "name": "ipython",
    "version": 3
   },
   "file_extension": ".py",
   "mimetype": "text/x-python",
   "name": "python",
   "nbconvert_exporter": "python",
   "pygments_lexer": "ipython3",
   "version": "3.7.1"
  }
 },
 "nbformat": 4,
 "nbformat_minor": 2
}
