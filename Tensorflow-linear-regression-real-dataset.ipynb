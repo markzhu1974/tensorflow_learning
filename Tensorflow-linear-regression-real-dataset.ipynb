{
 "cells": [
  {
   "cell_type": "code",
   "execution_count": 1,
   "metadata": {},
   "outputs": [],
   "source": [
    "import matplotlib.pyplot as plt\n",
    "%matplotlib inline\n",
    "import tensorflow as tf\n",
    "import numpy as np\n",
    "from numpy import genfromtxt\n",
    "from sklearn.datasets import load_boston\n",
    "from sklearn.model_selection import train_test_split"
   ]
  },
  {
   "cell_type": "code",
   "execution_count": 2,
   "metadata": {},
   "outputs": [],
   "source": [
    "def read_boston_data():\n",
    "    boston = load_boston()\n",
    "    features = np.array(boston.data)\n",
    "    labels = np.array(boston.target)\n",
    "    return features, labels\n"
   ]
  },
  {
   "cell_type": "code",
   "execution_count": 3,
   "metadata": {},
   "outputs": [],
   "source": [
    "def normalizer(dataset):\n",
    "    mu = np.mean(dataset, axis=0) #平均值\n",
    "    sigma = np.std(dataset, axis=0) #方差\n",
    "    return(dataset - mu)/sigma"
   ]
  },
  {
   "cell_type": "code",
   "execution_count": 4,
   "metadata": {},
   "outputs": [],
   "source": [
    "def bias_vector(features, labels):\n",
    "    n_training_samples = features.shape[0] #shape[0] 为第一维的长度，shape[1] 为第二维的长度\n",
    "    n_dim = features.shape[1]\n",
    "    f = np.reshape(np.c_[np.ones(n_training_samples), features], [n_training_samples, n_dim + 1]) #增加一列数值1到第一列\n",
    "    l = np.reshape(labels, [n_training_samples, 1]) # 行矩阵转置为列矩阵\n",
    "    return f, l"
   ]
  },
  {
   "cell_type": "code",
   "execution_count": 5,
   "metadata": {},
   "outputs": [],
   "source": [
    "features, labels = read_boston_data()\n",
    "normalized_features = normalizer(features)\n",
    "data, label = bias_vector(normalized_features, labels)\n",
    "n_dim = data.shape[1]\n",
    "train_x, test_x, train_y, test_y = train_test_split(data, label, test_size=0.25, random_state = 100)"
   ]
  },
  {
   "cell_type": "code",
   "execution_count": 9,
   "metadata": {},
   "outputs": [
    {
     "data": {
      "image/png": "[encoded data removed]",
      "text/plain": [
       "<Figure size 432x288 with 1 Axes>"
      ]
     },
     "metadata": {
      "needs_background": "light"
     },
     "output_type": "display_data"
    }
   ],
   "source": [
    "learning_rate = 0.0001\n",
    "training_epochs = 100000\n",
    "log_loss = np.empty(shape=[1], dtype=float) #一行一列的空数组\n",
    "X = tf.placeholder(tf.float32,[None, n_dim]) #任意行，n_dim列，float32类型\n",
    "Y = tf.placeholder(tf.float32,[None, 1]) #任意行，1列，float32类型\n",
    "# 拟合函数  y = W' x + b  （向量的点积）\n",
    "W = tf.Variable(tf.ones([n_dim,1])) #这里W是个列向量，n_dim行1列 。因为feature的第一列增加了数值1的列，因此w0相当于b\n",
    "\n",
    "y_ = tf.matmul(X, W) #对应上面的拟合函数\n",
    "cost_op = tf.reduce_mean(tf.square(y_ - Y)) #损失函数\n",
    "training_step = tf.train.GradientDescentOptimizer(learning_rate).minimize(cost_op) #利用梯度下降法，最小化损失函数\n",
    "\n",
    "init_op = tf.global_variables_initializer()\n",
    "\n",
    "sess = tf.Session()\n",
    "sess.run(init_op)\n",
    "for epoch in range(training_epochs):\n",
    "    sess.run(training_step, feed_dict={X:train_x,Y:train_y})\n",
    "    log_loss = np.append(log_loss,sess.run(cost_op,feed_dict={X:train_x,Y:train_y}))\n",
    "\n",
    "plt.plot(range(len(log_loss)),log_loss)\n",
    "plt.axis([0,training_epochs,0,np.max(log_loss)])\n",
    "plt.show()"
   ]
  },
  {
   "cell_type": "code",
   "execution_count": 14,
   "metadata": {},
   "outputs": [
    {
     "name": "stdout",
     "output_type": "stream",
     "text": [
      "MSE: 27.3673\n"
     ]
    }
   ],
   "source": [
    "# Make some predictions on the test dataset and calculate the mean squared error\n",
    "pred_y = sess.run(y_, feed_dict={X:test_x})\n",
    "mse = tf.reduce_mean(tf.square(pred_y-test_y))\n",
    "print(\"MSE: %.4f\" %(sess.run(mse)))\n"
   ]
  },
  {
   "cell_type": "code",
   "execution_count": 19,
   "metadata": {},
   "outputs": [
    {
     "data": {
      "image/png": "[encoded data removed]",
      "text/plain": [
       "<Figure size 432x288 with 1 Axes>"
      ]
     },
     "metadata": {
      "needs_background": "light"
     },
     "output_type": "display_data"
    }
   ],
   "source": [
    "# Show the line of best fit\n",
    "fig, ax = plt.subplots()\n",
    "ax.scatter(test_y, pred_y)\n",
    "ax.plot([test_y.min(), test_y.max()], [test_y.min(), test_y.max()], 'k--', lw=3)\n",
    "ax.set_xlabel('Measured')\n",
    "ax.set_ylabel('Predicted')\n",
    "plt.show()"
   ]
  },
  {
   "cell_type": "code",
   "execution_count": 55,
   "metadata": {},
   "outputs": [
    {
     "data": {
      "text/plain": [
       "array([[1.5e-323]])"
      ]
     },
     "execution_count": 55,
     "metadata": {},
     "output_type": "execute_result"
    }
   ],
   "source": [
    "#### For understanding the np.c_() and np.r_(), shape[0], shape[1]\n",
    "\n",
    "#import numpy as np\n",
    "\"\"\"\n",
    "a = np.array([[1,1], [2,2], [3,3]])\n",
    "b = np.array([[4,4], [5,5], [6,6]])\n",
    "l =  np.array([7,8,9])\n",
    "c = np.c_[a,b]\n",
    "r = np.r_[a,b]\n",
    "s0=c.shape[0]\n",
    "s1=c.shape[1]\n",
    "\n",
    "#print(a)\n",
    "#print(c)\n",
    "#print(s0)\n",
    "#print(s1)\n",
    "\n",
    "data, label = bias_vector(c, l)\n",
    "print(data)\n",
    "print(label)\n",
    "\"\"\"\n",
    "n = np.empty(shape=[1,1], dtype=float)\n",
    "n"
   ]
  },
  {
   "cell_type": "code",
   "execution_count": null,
   "metadata": {},
   "outputs": [],
   "source": []
  }
 ],
 "metadata": {
  "kernelspec": {
   "display_name": "Python 3",
   "language": "python",
   "name": "python3"
  },
  "language_info": {
   "codemirror_mode": {
    "name": "ipython",
    "version": 3
   },
   "file_extension": ".py",
   "mimetype": "text/x-python",
   "name": "python",
   "nbconvert_exporter": "python",
   "pygments_lexer": "ipython3",
   "version": "3.7.1"
  }
 },
 "nbformat": 4,
 "nbformat_minor": 2
}
